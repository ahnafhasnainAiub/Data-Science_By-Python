{
 "cells": [
  {
   "cell_type": "markdown",
   "id": "f25d54b9",
   "metadata": {},
   "source": [
    "## Less space consume "
   ]
  },
  {
   "cell_type": "code",
   "execution_count": 9,
   "id": "ef260243",
   "metadata": {},
   "outputs": [
    {
     "name": "stdout",
     "output_type": "stream",
     "text": [
      "Pyhton List Took Space :  280000\n",
      "Numpy took space :  40000\n"
     ]
    }
   ],
   "source": [
    "import numpy as np\n",
    "import time\n",
    "import sys\n",
    "\n",
    "l = range(10000)\n",
    "print(\"Pyhton List Took Space : \",sys.getsizeof(5)*len(l))\n",
    "\n",
    "array = np.arange(10000)\n",
    "print(\"Numpy took space : \",array.size*array.itemsize)"
   ]
  },
  {
   "cell_type": "markdown",
   "id": "5b867904",
   "metadata": {},
   "source": [
    "## Less time consume  "
   ]
  },
  {
   "cell_type": "code",
   "execution_count": 7,
   "id": "b5889245",
   "metadata": {},
   "outputs": [
    {
     "name": "stdout",
     "output_type": "stream",
     "text": [
      "Python List Took:  20.31087875366211\n",
      "Numpy Took:  9.958744049072266\n"
     ]
    }
   ],
   "source": [
    "SIZE = 10000\n",
    "a1 = np.arange(SIZE)\n",
    "a2 = np.arange(SIZE)\n",
    "\n",
    "l1 = range(SIZE)\n",
    "l2 = range(SIZE)\n",
    "\n",
    "#python list\n",
    "start = time.time()\n",
    "result = [(x+y) for x,y in zip(l1,l2)]\n",
    "print(\"Python List Took: \",(time.time()-start)*10000)\n",
    "\n",
    "#numpy array\n",
    "start = time.time()\n",
    "result = a1 + a2        #Numpy is Convinient\n",
    "print(\"Numpy Took: \",(time.time()-start)*10000)"
   ]
  },
  {
   "cell_type": "code",
   "execution_count": null,
   "id": "329a8558",
   "metadata": {},
   "outputs": [],
   "source": []
  }
 ],
 "metadata": {
  "kernelspec": {
   "display_name": "Python 3 (ipykernel)",
   "language": "python",
   "name": "python3"
  },
  "language_info": {
   "codemirror_mode": {
    "name": "ipython",
    "version": 3
   },
   "file_extension": ".py",
   "mimetype": "text/x-python",
   "name": "python",
   "nbconvert_exporter": "python",
   "pygments_lexer": "ipython3",
   "version": "3.9.13"
  }
 },
 "nbformat": 4,
 "nbformat_minor": 5
}
