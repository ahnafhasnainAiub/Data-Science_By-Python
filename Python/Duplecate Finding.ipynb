{
 "cells": [
  {
   "cell_type": "code",
   "execution_count": 30,
   "id": "c45e960e",
   "metadata": {},
   "outputs": [
    {
     "name": "stdout",
     "output_type": "stream",
     "text": [
      "Given List = [1, 5, 6, 5, 1, 2, 3]\n",
      "Duplicate List = [5, 1]\n"
     ]
    }
   ],
   "source": [
    "list1 = [1, 5, 6, 5, 1, 2, 3]\n",
    "print(\"Given List =\", list1)\n",
    "list2 = []\n",
    "list3 = set() \n",
    "\n",
    "for x in list1:\n",
    "    if x in list3:\n",
    "        list2.append(x)\n",
    "    else:\n",
    "        list3.add(x)\n",
    "        \n",
    "print(\"Duplicate List =\",list2)\n",
    "    "
   ]
  },
  {
   "cell_type": "code",
   "execution_count": 29,
   "id": "fb24a6b4",
   "metadata": {},
   "outputs": [
    {
     "name": "stdout",
     "output_type": "stream",
     "text": [
      "Original List: [1, 5, 6, 5, 1, 2, 3]\n",
      "Duplicate Elements: [5, 1]\n"
     ]
    }
   ],
   "source": [
    "original_list = [1, 5, 6, 5, 1, 2, 3]\n",
    "\n",
    "unique_items = set()\n",
    "duplicates = []\n",
    "\n",
    "for item in original_list:\n",
    "    if item in unique_items:\n",
    "        duplicates.append(item)\n",
    "    else:\n",
    "        unique_items.add(item)\n",
    "\n",
    "print(\"Original List:\", original_list)\n",
    "print(\"Duplicate Elements:\", duplicates)\n"
   ]
  },
  {
   "cell_type": "code",
   "execution_count": 23,
   "id": "b79033d8",
   "metadata": {},
   "outputs": [
    {
     "name": "stdout",
     "output_type": "stream",
     "text": [
      "Duplicate List = []\n"
     ]
    }
   ],
   "source": [
    "list1 = [1, 5, 6, 5, 1, 2, 3]\n",
    "list2 = []\n",
    "list3 = []\n",
    "\n",
    "for x in list1:\n",
    "    if x not in list2:\n",
    "        list3.append(x)\n",
    "    else:\n",
    "        list2.add(x)\n",
    "\n",
    "print(\"Duplicate List =\",list2)"
   ]
  },
  {
   "cell_type": "code",
   "execution_count": null,
   "id": "113055e0",
   "metadata": {},
   "outputs": [],
   "source": []
  },
  {
   "cell_type": "code",
   "execution_count": null,
   "id": "a9f61299",
   "metadata": {},
   "outputs": [],
   "source": []
  }
 ],
 "metadata": {
  "kernelspec": {
   "display_name": "Python 3 (ipykernel)",
   "language": "python",
   "name": "python3"
  },
  "language_info": {
   "codemirror_mode": {
    "name": "ipython",
    "version": 3
   },
   "file_extension": ".py",
   "mimetype": "text/x-python",
   "name": "python",
   "nbconvert_exporter": "python",
   "pygments_lexer": "ipython3",
   "version": "3.9.13"
  }
 },
 "nbformat": 4,
 "nbformat_minor": 5
}
