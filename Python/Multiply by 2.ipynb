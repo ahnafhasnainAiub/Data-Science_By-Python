{
 "cells": [
  {
   "cell_type": "code",
   "execution_count": 2,
   "id": "e724f0d7",
   "metadata": {},
   "outputs": [
    {
     "name": "stdout",
     "output_type": "stream",
     "text": [
      "2\n",
      "4\n",
      "6\n",
      "8\n",
      "10\n",
      "12\n",
      "14\n",
      "16\n",
      "18\n",
      "20\n"
     ]
    }
   ],
   "source": [
    "def multiply_element(numbers):\n",
    "    total = 0\n",
    "    for i in numbers:\n",
    "        total = i * 2\n",
    "        print(total)\n",
    "           \n",
    "\n",
    "numbers = [1, 2, 3, 4, 5, 6, 7, 8, 9, 10] \n",
    "multiply_element(numbers)"
   ]
  },
  {
   "cell_type": "code",
   "execution_count": null,
   "id": "f610b314",
   "metadata": {},
   "outputs": [],
   "source": []
  }
 ],
 "metadata": {
  "kernelspec": {
   "display_name": "Python 3 (ipykernel)",
   "language": "python",
   "name": "python3"
  },
  "language_info": {
   "codemirror_mode": {
    "name": "ipython",
    "version": 3
   },
   "file_extension": ".py",
   "mimetype": "text/x-python",
   "name": "python",
   "nbconvert_exporter": "python",
   "pygments_lexer": "ipython3",
   "version": "3.9.13"
  }
 },
 "nbformat": 4,
 "nbformat_minor": 5
}
