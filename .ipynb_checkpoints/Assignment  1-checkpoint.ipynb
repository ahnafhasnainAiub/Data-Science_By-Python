{
 "cells": [
  {
   "cell_type": "code",
   "execution_count": 5,
   "id": "e12af721",
   "metadata": {},
   "outputs": [
    {
     "name": "stdout",
     "output_type": "stream",
     "text": [
      "Hello1\n",
      "Hello2\n"
     ]
    }
   ],
   "source": [
    "print(\"Hello1\")\n",
    "print('Hello2')\n"
   ]
  },
  {
   "cell_type": "code",
   "execution_count": null,
   "id": "dbd72d33",
   "metadata": {},
   "outputs": [],
   "source": [
    "X=100\n",
    "x = 200\n",
    "x2 = -3\n",
    "Xa = 10\n",
    "\n",
    "_aa499 = 60\n",
    "\n",
    "sum =x + _aa499 + x2\n",
    "print(sum)"
   ]
  },
  {
   "cell_type": "code",
   "execution_count": 20,
   "id": "f3f8dae5",
   "metadata": {},
   "outputs": [
    {
     "name": "stdout",
     "output_type": "stream",
     "text": [
      "<class 'str'>\n"
     ]
    }
   ],
   "source": [
    "x = 6   \n",
    "x = 'hello'\n",
    "print(type(x))\n"
   ]
  },
  {
   "cell_type": "code",
   "execution_count": 27,
   "id": "7539bd0e",
   "metadata": {},
   "outputs": [
    {
     "name": "stdout",
     "output_type": "stream",
     "text": [
      "rl\n"
     ]
    }
   ],
   "source": [
    "a = \"Hello World\"\n",
    "print(a[-3:-1])\n"
   ]
  },
  {
   "cell_type": "code",
   "execution_count": null,
   "id": "bafaedb4",
   "metadata": {},
   "outputs": [],
   "source": [
    "n = int(input(\"Enter a Integer Value \"))\n",
    "total = 0\n",
    "\n",
    "for i in range(1, n+1, 2):\n",
    "    if x % 2 != 0:\n",
    "        total += i \n",
    "        print(\"The sum of all odd numbers up to\", n, \"is:\", total)"
   ]
  },
  {
   "cell_type": "code",
   "execution_count": null,
   "id": "f02ee82d",
   "metadata": {},
   "outputs": [],
   "source": [
    "n = int(input(\"Enter a number: \"))\n",
    "sum = 0\n",
    "\n",
    "for i in range(1, n+1, 2):\n",
    "    sum += i\n",
    "\n",
    "print(\"The sum of all odd numbers up to\", n, \"is:\", sum)\n"
   ]
  },
  {
   "cell_type": "code",
   "execution_count": null,
   "id": "e7f8f472",
   "metadata": {},
   "outputs": [],
   "source": []
  }
 ],
 "metadata": {
  "kernelspec": {
   "display_name": "Python 3 (ipykernel)",
   "language": "python",
   "name": "python3"
  },
  "language_info": {
   "codemirror_mode": {
    "name": "ipython",
    "version": 3
   },
   "file_extension": ".py",
   "mimetype": "text/x-python",
   "name": "python",
   "nbconvert_exporter": "python",
   "pygments_lexer": "ipython3",
   "version": "3.9.13"
  }
 },
 "nbformat": 4,
 "nbformat_minor": 5
}
